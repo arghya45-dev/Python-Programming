{
 "cells": [
  {
   "cell_type": "code",
   "execution_count": 2,
   "id": "5cc5869e",
   "metadata": {},
   "outputs": [
    {
     "name": "stdout",
     "output_type": "stream",
     "text": [
      "Hello World!\n"
     ]
    }
   ],
   "source": [
    "#print hello world\n",
    "print(\"Hello World!\")"
   ]
  },
  {
   "cell_type": "code",
   "execution_count": 2,
   "id": "935ab5ad",
   "metadata": {},
   "outputs": [
    {
     "name": "stdout",
     "output_type": "stream",
     "text": [
      "<class 'str'> <class 'int'> <class 'float'> <class 'bool'>\n"
     ]
    }
   ],
   "source": [
    "#show datatype\n",
    "name = \"Arghya\"\n",
    "age = 20\n",
    "height = 5.10\n",
    "is_Student = True\n",
    "print(type(name),type(age),type(height),type(is_Student))"
   ]
  },
  {
   "cell_type": "code",
   "execution_count": 3,
   "id": "8aa229c4",
   "metadata": {},
   "outputs": [
    {
     "name": "stdout",
     "output_type": "stream",
     "text": [
      "Your name:  arghya\n"
     ]
    }
   ],
   "source": [
    "#enter and print your name\n",
    "name = input(\"Enter your name: \")\n",
    "print(\"Your name: \",name)"
   ]
  },
  {
   "cell_type": "code",
   "execution_count": 5,
   "id": "0b651f71",
   "metadata": {},
   "outputs": [
    {
     "name": "stdout",
     "output_type": "stream",
     "text": [
      "Addition:  6\n",
      "Subtraction:  2\n",
      "Multiplication:  8\n",
      "Division:  2.0\n",
      "Modulo:  0\n"
     ]
    }
   ],
   "source": [
    "#perform addition, subtraction, multiplication, division and modulo\n",
    "a = int(input(\"Enter first number: \"))\n",
    "b = int(input(\"Enter second number: \"))\n",
    "add = a+b\n",
    "sub = a-b\n",
    "mul = a*b\n",
    "div = a/b\n",
    "mod = a%b\n",
    "print(\"Addition: \",add)\n",
    "print(\"Subtraction: \",sub)\n",
    "print(\"Multiplication: \",mul)\n",
    "print(\"Division: \",div)\n",
    "print(\"Modulo: \",mod)"
   ]
  },
  {
   "cell_type": "code",
   "execution_count": 6,
   "id": "30cfd55a",
   "metadata": {},
   "outputs": [
    {
     "name": "stdout",
     "output_type": "stream",
     "text": [
      "Negative number\n"
     ]
    }
   ],
   "source": [
    "#check number is positive, negative or 0\n",
    "n = int(input(\"Enter a number: \"))\n",
    "if (n<0):\n",
    "  print(\"Negative number\")\n",
    "elif (n>0):\n",
    "  print(\"Positive number\")\n",
    "else:\n",
    "  print(\"Zero\")"
   ]
  },
  {
   "cell_type": "code",
   "execution_count": 7,
   "id": "77a9e402",
   "metadata": {},
   "outputs": [
    {
     "name": "stdout",
     "output_type": "stream",
     "text": [
      "1st number:  90\n",
      "2nd number:  7\n"
     ]
    }
   ],
   "source": [
    "#swap 2 numbers\n",
    "a = int(input(\"Enter the 1st number: \"))\n",
    "b = int(input(\"Enter the 2nd number: \"))\n",
    "a = a+b\n",
    "b = a-b\n",
    "a = a-b\n",
    "print(\"1st number: \",a)\n",
    "print(\"2nd number: \",b)"
   ]
  },
  {
   "cell_type": "code",
   "execution_count": 8,
   "id": "d8c4e229",
   "metadata": {},
   "outputs": [
    {
     "name": "stdout",
     "output_type": "stream",
     "text": [
      "Odd number\n"
     ]
    }
   ],
   "source": [
    "#check even odd\n",
    "n = int(input(\"Enter a number: \"))\n",
    "if (n%2==0):\n",
    "  print(\"Even number\")\n",
    "else:\n",
    "  print(\"Odd number\")"
   ]
  },
  {
   "cell_type": "code",
   "execution_count": 9,
   "id": "43d643ec",
   "metadata": {},
   "outputs": [
    {
     "name": "stdout",
     "output_type": "stream",
     "text": [
      "Leap year\n"
     ]
    }
   ],
   "source": [
    "#leap year\n",
    "year = int(input(\"Enter a year: \"))\n",
    "if (year%4==0 and year%100!=0 or year%400==0):\n",
    "  print(\"Leap year\")\n",
    "else:\n",
    "  print(\"Not a leap year\")"
   ]
  },
  {
   "cell_type": "code",
   "execution_count": 10,
   "id": "f63339dc",
   "metadata": {},
   "outputs": [
    {
     "name": "stdout",
     "output_type": "stream",
     "text": [
      "The factorial is:  120\n"
     ]
    }
   ],
   "source": [
    "#factorial\n",
    "n = int(input(\"Enter a number: \"))\n",
    "s=1\n",
    "for i in range(1,n+1):\n",
    "  s = s*i\n",
    "print(\"The factorial is: \",s)"
   ]
  },
  {
   "cell_type": "code",
   "execution_count": 11,
   "id": "c9c324c9",
   "metadata": {},
   "outputs": [
    {
     "name": "stdout",
     "output_type": "stream",
     "text": [
      "0\n",
      "1\n",
      "1\n",
      "2\n",
      "3\n",
      "5\n",
      "8\n",
      "13\n",
      "21\n",
      "34\n"
     ]
    }
   ],
   "source": [
    "#fibonacci series\n",
    "n = int(input(\"Enter the range: \"))\n",
    "a = 0\n",
    "b = 1\n",
    "print(a)\n",
    "print(b)\n",
    "for i in range(2,n):\n",
    "  c = a+b\n",
    "  print(c)\n",
    "  a = b\n",
    "  b = c"
   ]
  }
 ],
 "metadata": {
  "kernelspec": {
   "display_name": "base",
   "language": "python",
   "name": "python3"
  },
  "language_info": {
   "codemirror_mode": {
    "name": "ipython",
    "version": 3
   },
   "file_extension": ".py",
   "mimetype": "text/x-python",
   "name": "python",
   "nbconvert_exporter": "python",
   "pygments_lexer": "ipython3",
   "version": "3.12.4"
  }
 },
 "nbformat": 4,
 "nbformat_minor": 5
}
