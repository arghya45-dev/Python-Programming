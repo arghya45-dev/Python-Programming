{
 "cells": [
  {
   "cell_type": "code",
   "execution_count": null,
   "metadata": {},
   "outputs": [],
   "source": [
    "# sum of two number using func \n",
    "\n",
    "def sum(num1 , num2 ):\n",
    "    return num1+num2\n",
    "\n",
    "a= int (input(\"Enter number 1: \"))\n",
    "b= int (input(\"Enter number 2: \"))\n",
    "result = sum(a,b)\n",
    "print(result)\n"
   ]
  },
  {
   "cell_type": "code",
   "execution_count": 2,
   "metadata": {},
   "outputs": [
    {
     "name": "stdout",
     "output_type": "stream",
     "text": [
      "23 is greater\n"
     ]
    }
   ],
   "source": [
    "# find max of two no using func \n",
    "def max_num(num1, num2):\n",
    "    if (num1 == num2):\n",
    "        print(\"Both numbers are equal\")\n",
    "    elif (num1 < num2):\n",
    "        print(f\"{num2} is greater\")\n",
    "    else:\n",
    "        print(f\"{num1} is greater\")\n",
    "\n",
    "\n",
    "a = int(input(\"Enter number 1: \"))\n",
    "b = int(input(\"Enter number 2: \"))\n",
    "max_num(a, b)\n",
    "\n",
    "\n"
   ]
  },
  {
   "cell_type": "code",
   "execution_count": null,
   "metadata": {},
   "outputs": [
    {
     "name": "stdout",
     "output_type": "stream",
     "text": [
      "5 is odd \n"
     ]
    }
   ],
   "source": [
    "# even or odd using func \n",
    "\n",
    "def check(num1 ):\n",
    "    if (a%2==0):\n",
    "        print(f\"{num1} is even\") \n",
    "    else: \n",
    "        print(f\"{num1} is odd \")\n",
    "\n",
    "\n",
    "a= int (input(\"Enter number 1: \"))\n",
    "result = check(a)\n"
   ]
  },
  {
   "cell_type": "code",
   "execution_count": 11,
   "metadata": {},
   "outputs": [
    {
     "name": "stdout",
     "output_type": "stream",
     "text": [
      "The factorial of 5 is 120\n"
     ]
    }
   ],
   "source": [
    "# calculate fact using func\n",
    "\n",
    "def factorial(n):\n",
    "    if n == 0 or n == 1:\n",
    "        return 1\n",
    "    else:\n",
    "        return n * factorial(n - 1)\n",
    "\n",
    "\n",
    "num = int(input(\"Enter a number to find its factorial: \"))\n",
    "result = factorial(num)\n",
    "print(f\"The factorial of {num} is {result}\")\n",
    "\n"
   ]
  },
  {
   "cell_type": "code",
   "execution_count": 14,
   "metadata": {},
   "outputs": [
    {
     "name": "stdout",
     "output_type": "stream",
     "text": [
      "The largest number in the list is: 200\n"
     ]
    }
   ],
   "source": [
    "# find largest no in a list \n",
    "\n",
    "def find_largest(numbers):\n",
    "    largest = numbers[0] \n",
    "    for num in numbers:\n",
    "        if num > largest:\n",
    "            largest = num  \n",
    "    return largest\n",
    "\n",
    "\n",
    "numbers_list = [10 , 20 ,30 ,40 ,200]\n",
    "largest_number = find_largest(numbers_list)\n",
    "print(f\"The largest number in the list is: {largest_number}\")\n",
    "\n"
   ]
  },
  {
   "cell_type": "code",
   "execution_count": 20,
   "metadata": {},
   "outputs": [
    {
     "name": "stdout",
     "output_type": "stream",
     "text": [
      "The sum of all number in the list is: 300\n"
     ]
    }
   ],
   "source": [
    "# calculate sum of all element in a list \n",
    "def find_sum(numbers):\n",
    "    total =0\n",
    "    largest = numbers[0] \n",
    "    for num in numbers:\n",
    "        total =total+num \n",
    "    return total\n",
    "\n",
    "numbers_list = [10 , 20 ,30 ,40 ,200]\n",
    "result = find_sum(numbers_list)\n",
    "print(f\"The sum of all number in the list is: {result}\")\n",
    "\n",
    "\n"
   ]
  },
  {
   "cell_type": "code",
   "execution_count": 26,
   "metadata": {},
   "outputs": [
    {
     "name": "stdout",
     "output_type": "stream",
     "text": [
      "[200, 40, 30, 20, 10]\n"
     ]
    }
   ],
   "source": [
    "# reverse a list\n",
    "\n",
    "\n",
    "l = [10 , 20 ,30 ,40 ,200]\n",
    "l.reverse()\n",
    "print(l)"
   ]
  },
  {
   "cell_type": "code",
   "execution_count": 29,
   "metadata": {},
   "outputs": [
    {
     "name": "stdout",
     "output_type": "stream",
     "text": [
      "[10, 20, 30, 40, 200, 300]\n"
     ]
    }
   ],
   "source": [
    "# append\n",
    "l = [10 , 20 ,30 ,40 ,200]\n",
    "l.append(300)\n",
    "print(l)"
   ]
  },
  {
   "cell_type": "code",
   "execution_count": 31,
   "metadata": {},
   "outputs": [
    {
     "name": "stdout",
     "output_type": "stream",
     "text": [
      "[10, 12, 20, 30, 40, 200]\n"
     ]
    }
   ],
   "source": [
    "# insert\n",
    "l = [10 , 20 ,30 ,40 ,200]\n",
    "l.insert(1,12)\n",
    "print(l)"
   ]
  },
  {
   "cell_type": "code",
   "execution_count": null,
   "metadata": {},
   "outputs": [
    {
     "name": "stdout",
     "output_type": "stream",
     "text": [
      "1\n"
     ]
    }
   ],
   "source": [
    "# index\n",
    "l = [10 , 20 ,30 ,40 ,200]\n",
    "index =l.index(20)\n",
    "print(index)"
   ]
  },
  {
   "cell_type": "code",
   "execution_count": null,
   "metadata": {},
   "outputs": [
    {
     "name": "stdout",
     "output_type": "stream",
     "text": [
      "[10, 30, 40, 200]\n"
     ]
    }
   ],
   "source": [
    "#remove \n",
    "l = [10 , 20 ,30 ,40 ,200]\n",
    "l.remove(20)\n",
    "print(l)"
   ]
  },
  {
   "cell_type": "code",
   "execution_count": null,
   "metadata": {},
   "outputs": [
    {
     "name": "stdout",
     "output_type": "stream",
     "text": [
      "[20, 30, 40, 100, 200]\n"
     ]
    }
   ],
   "source": [
    "# sort\n",
    "l = [100 , 20 ,30 ,40 ,200]\n",
    "l.sort()\n",
    "print(l)"
   ]
  },
  {
   "cell_type": "code",
   "execution_count": 45,
   "metadata": {},
   "outputs": [
    {
     "name": "stdout",
     "output_type": "stream",
     "text": [
      "2\n"
     ]
    }
   ],
   "source": [
    "# count\n",
    "l = [10 , 20 ,10 ,40 ,200]\n",
    "count =l.count(10)\n",
    "print(count)"
   ]
  },
  {
   "cell_type": "code",
   "execution_count": 46,
   "metadata": {},
   "outputs": [
    {
     "name": "stdout",
     "output_type": "stream",
     "text": [
      "[10, 20, 30, 40, 200]\n"
     ]
    }
   ],
   "source": [
    "# copy\n",
    "l = [10 , 20 ,30 ,40 ,200]\n",
    "k=[0]\n",
    "k=l.copy()\n",
    "print(k)"
   ]
  },
  {
   "cell_type": "code",
   "execution_count": 47,
   "metadata": {},
   "outputs": [
    {
     "name": "stdout",
     "output_type": "stream",
     "text": [
      "{1, 2, 3, 4}\n"
     ]
    }
   ],
   "source": [
    "# create a set of int type\n",
    "s = { 1,2,3,4} \n",
    "print(s)"
   ]
  },
  {
   "cell_type": "code",
   "execution_count": 49,
   "metadata": {},
   "outputs": [
    {
     "name": "stdout",
     "output_type": "stream",
     "text": [
      "{'arghya, 20'}\n"
     ]
    }
   ],
   "source": [
    "# create a mixed set\n",
    "s = { \"arghya, 20\"} \n",
    "print(s)"
   ]
  },
  {
   "cell_type": "code",
   "execution_count": 48,
   "metadata": {},
   "outputs": [
    {
     "name": "stdout",
     "output_type": "stream",
     "text": [
      "{'arghya', 'aritra'}\n"
     ]
    }
   ],
   "source": [
    "# create a set of string type \n",
    "s={\"arghya\",\"aritra\"}\n",
    "print(s)"
   ]
  },
  {
   "cell_type": "code",
   "execution_count": 50,
   "metadata": {},
   "outputs": [
    {
     "name": "stdout",
     "output_type": "stream",
     "text": [
      "{'arghya', 'aritra', 'kolkata'}\n"
     ]
    }
   ],
   "source": [
    "# add()\n",
    "s={\"arghya\",\"aritra\"}\n",
    "s.add(\"kolkata\")\n",
    "print(s)"
   ]
  },
  {
   "cell_type": "code",
   "execution_count": 51,
   "metadata": {},
   "outputs": [
    {
     "name": "stdout",
     "output_type": "stream",
     "text": [
      "{1, 2, 3, 4, 6, 7, 8, 9}\n"
     ]
    }
   ],
   "source": [
    "# upadte()\n",
    "s = { 1,2,3,4}\n",
    "p={9,8,7,6} \n",
    "s.update(p)\n",
    "print(s)"
   ]
  },
  {
   "cell_type": "code",
   "execution_count": null,
   "metadata": {},
   "outputs": [],
   "source": []
  }
 ],
 "metadata": {
  "kernelspec": {
   "display_name": "Python 3",
   "language": "python",
   "name": "python3"
  },
  "language_info": {
   "codemirror_mode": {
    "name": "ipython",
    "version": 3
   },
   "file_extension": ".py",
   "mimetype": "text/x-python",
   "name": "python",
   "nbconvert_exporter": "python",
   "pygments_lexer": "ipython3",
   "version": "3.12.2"
  }
 },
 "nbformat": 4,
 "nbformat_minor": 2
}
